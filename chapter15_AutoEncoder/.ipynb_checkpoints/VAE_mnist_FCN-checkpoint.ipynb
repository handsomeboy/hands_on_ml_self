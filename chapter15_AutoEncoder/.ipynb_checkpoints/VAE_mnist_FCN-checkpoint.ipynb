{
 "cells": [
  {
   "cell_type": "code",
   "execution_count": 40,
   "metadata": {},
   "outputs": [],
   "source": [
    "import tensorflow as tf\n",
    "import numpy as np\n",
    "import sys\n",
    "import os\n",
    "import matplotlib\n",
    "import matplotlib.pyplot as plt\n",
    "\n",
    "np.set_printoptions(precision=2)\n",
    "\n",
    "# 그림을 저장할 폴더\n",
    "PROJECT_ROOT_DIR = \".\"\n",
    "TITLE = \"VAE_mnist_FCN\""
   ]
  },
  {
   "cell_type": "code",
   "execution_count": 41,
   "metadata": {},
   "outputs": [],
   "source": [
    "def save_fig(fig_id, tight_layout=True):\n",
    "    path = os.path.join(PROJECT_ROOT_DIR, \"images\", fig_id + '_' + TITLE + \".png\")\n",
    "    if tight_layout:\n",
    "        plt.tight_layout()\n",
    "    plt.savefig(path, format='png', dpi=300)\n",
    "\n",
    "\n",
    "def reset_graph(seed=420):\n",
    "    tf.reset_default_graph()\n",
    "    tf.set_random_seed(seed)\n",
    "    np.random.seed(seed)\n",
    "\n",
    "def plot_image(image, shape=[28, 28]):\n",
    "    plt.imshow(image.reshape(shape), cmap=\"Greys\", interpolation=\"nearest\")\n",
    "    plt.axis(\"off\")\n",
    "\n",
    "def plot_multiple_images(images, n_rows, n_cols, pad=2):\n",
    "    images = images - images.min()\n",
    "    w,h = images.shape[1:]\n",
    "    image = np.zeros(((w+pad)*n_rows+pad, (h+pad)*n_cols+pad))\n",
    "    for y in range(n_rows):\n",
    "        for x in range(n_cols):\n",
    "            image[(y*(h+pad)+pad):(y*(h+pad)+pad+h),(x*(w+pad)+pad):(x*(w+pad)+pad+w)] = images[y*n_cols+x]\n",
    "    plt.imshow(image, cmap=\"Greys\", interpolation=\"nearest\")\n",
    "    plt.axis(\"off\")\n",
    "\n",
    "def shuffle_batch(X, y, batch_size):\n",
    "    rnd_idx = np.random.permutation(len(X))\n",
    "    n_batches = len(X) // batch_size\n",
    "    for batch_idx in np.array_split(rnd_idx, n_batches):\n",
    "        X_batch, y_batch = X[batch_idx], y[batch_idx]\n",
    "        yield X_batch, y_batch\n",
    "\n",
    "# make mnist dataset\n",
    "def import_mnist_dataset():\n",
    "    (X_train, y_train), (X_test, y_test) = tf.keras.datasets.mnist.load_data()\n",
    "    X_train = X_train.astype(np.float32).reshape(-1, 28*28) / 255.0\n",
    "    X_test = X_test.astype(np.float32).reshape(-1, 28*28) / 255.0\n",
    "    y_train = y_train.astype(np.int32)\n",
    "    y_test = y_test.astype(np.int32)\n",
    "    X_valid, X_train = X_train[:5000], X_train[5000:]\n",
    "    y_valid, y_train = y_train[:5000], y_train[5000:]\n",
    "    return X_train, X_valid, y_train, y_valid"
   ]
  },
  {
   "cell_type": "code",
   "execution_count": 51,
   "metadata": {},
   "outputs": [],
   "source": [
    "reset_graph()\n",
    "\n",
    "n_inputs = 28 * 28\n",
    "# encoder spec.\n",
    "n_hidden1 = 1000\n",
    "n_hidden2 = 500\n",
    "n_hidden3 = 250\n",
    "n_hidden4 = 125\n",
    "\n",
    "# coding unit (latent vector, z)\n",
    "n_latent = 50\n",
    "\n",
    "# decoder spec.\n",
    "n_hidden6 = n_hidden4 # encoder, decoder를 대칭적으로 생성하기 위함\n",
    "n_hidden7 = n_hidden3\n",
    "n_hidden8 = n_hidden2\n",
    "n_hidden9 = n_hidden1\n",
    "n_outputs = n_inputs\n",
    "\n",
    "learning_rate = 0.0001\n",
    "initializer = tf.variance_scaling_initializer()\n",
    "\n",
    "\n",
    "with tf.name_scope(\"inputs\"):\n",
    "    X = tf.placeholder(tf.float32, [None, n_inputs])\n",
    "\n",
    "with tf.name_scope(\"encoder\"):\n",
    "    hidden1 = tf.layers.dense(X, n_hidden1, kernel_initializer=initializer, activation=tf.nn.relu, name='encoder_hidden1')\n",
    "    hidden2 = tf.layers.dense(hidden1, n_hidden2, kernel_initializer=initializer, activation=tf.nn.relu, name='encoder_hidden2')\n",
    "    hidden3 = tf.layers.dense(hidden2, n_hidden3, kernel_initializer=initializer, activation=tf.nn.relu, name='encoder_hidden3')\n",
    "    hidden4 = tf.layers.dense(hidden3, n_hidden4, kernel_initializer=initializer, activation=tf.nn.relu, name='encoder_hidden4')\n",
    "\n",
    "with tf.name_scope(\"latent\"):\n",
    "    mean = tf.layers.dense(hidden4, n_latent, kernel_initializer=initializer, activation=None, name='latent_mu')\n",
    "    sigma = tf.layers.dense(hidden4, n_latent, kernel_initializer=initializer, activation=tf.nn.relu, name='latent_sigma')\n",
    "    noise = tf.random_normal(tf.shape(sigma), dtype=tf.float32)\n",
    "    latent = mean + sigma * noise\n",
    "\n",
    "with tf.name_scope(\"decoder\"):\n",
    "    hidden6 = tf.layers.dense(latent, n_hidden6, kernel_initializer=initializer, activation=tf.nn.relu, name='decoder_hidden6')\n",
    "    hidden7 = tf.layers.dense(hidden6, n_hidden7, kernel_initializer=initializer, activation=tf.nn.relu, name='decoder_hidden7')\n",
    "    hidden8 = tf.layers.dense(hidden7, n_hidden8, kernel_initializer=initializer, activation=tf.nn.relu, name='decoder_hidden8')\n",
    "    hidden9 = tf.layers.dense(hidden8, n_hidden9, kernel_initializer=initializer, activation=tf.nn.relu, name='decoder_hidden9')\n",
    "    logits = tf.layers.dense(hidden9, n_outputs, kernel_initializer=initializer, activation=None)\n",
    "    outputs = tf.sigmoid(logits)\n",
    "\n",
    "with tf.name_scope(\"loss\"):\n",
    "    cross_entropy = tf.nn.sigmoid_cross_entropy_with_logits(labels=X, logits=logits)\n",
    "    reconstruction_loss = tf.reduce_sum(cross_entropy)\n",
    "    eps = 1e-10\n",
    "    latent_loss = 0.5*tf.reduce_sum(tf.square(mean) + tf.square(sigma)-1 -tf.log(eps + tf.square(sigma)))\n",
    "    total_loss = reconstruction_loss + latent_loss\n",
    "\n",
    "with tf.name_scope(\"train\"):\n",
    "    optimizer = tf.train.AdamOptimizer(learning_rate=learning_rate)\n",
    "    training_op = optimizer.minimize(total_loss)"
   ]
  },
  {
   "cell_type": "code",
   "execution_count": 52,
   "metadata": {},
   "outputs": [
    {
     "name": "stdout",
     "output_type": "stream",
     "text": [
      "INFO:tensorflow:Restoring parameters from ./VAE_mnist_FCN\n"
     ]
    }
   ],
   "source": [
    "init = tf.global_variables_initializer()\n",
    "saver = tf.train.Saver()\n",
    "\n",
    "X_train, X_valid, y_train, y_valid = import_mnist_dataset()\n",
    "\n",
    "n_digits = 10\n",
    "n_epochs = 200\n",
    "batch_size = 128\n",
    "\n",
    "# mode = 'train'\n",
    "mode = 'load'\n",
    "\n",
    "list = []\n",
    "\n",
    "with tf.Session() as sess:\n",
    "    if mode == 'train':\n",
    "        init.run()\n",
    "        for epoch in range(n_epochs):\n",
    "            # n_batches = len(X_train) // batch_size\n",
    "            for X_batch, y_batch in shuffle_batch(X_train, y_train, batch_size):\n",
    "                sess.run(training_op, feed_dict={X: X_batch})\n",
    "            loss_val, reconstruction_loss_val, latent_loss_val = sess.run([total_loss, reconstruction_loss, latent_loss], feed_dict={X: X_batch})\n",
    "            print(\"\\r{}\".format(epoch), \"\\ttotal training loss:\", loss_val, \"\\treconstruction loss:\", reconstruction_loss_val, \"\\tlatent loss:\", latent_loss_val)\n",
    "            saver.save(sess, \"./\" + TITLE)\n",
    "\n",
    "        codings_rnd = np.random.normal(size=[n_digits, n_latent])\n",
    "        outputs_val = outputs.eval(feed_dict={latent: codings_rnd})\n",
    "\n",
    "    elif mode == 'load':\n",
    "        new_saver = tf.train.import_meta_graph(TITLE + '.meta')\n",
    "        new_saver.restore(sess, tf.train.latest_checkpoint('./'))\n",
    "\n",
    "        X_for_test = X_valid[:50]\n",
    "        test_mean = mean.eval(feed_dict={X: X_for_test})\n",
    "        test_sigma = sigma.eval(feed_dict={X: X_for_test})\n",
    "\n",
    "        codings_rnd = np.random.normal(size=[n_digits, n_latent])\n",
    "        outputs_val = outputs.eval(feed_dict={latent: codings_rnd})\n",
    "        "
   ]
  },
  {
   "cell_type": "code",
   "execution_count": 53,
   "metadata": {},
   "outputs": [
    {
     "name": "stdout",
     "output_type": "stream",
     "text": [
      "[[ 2.02e-02  1.98e+00 -2.99e-02 ...  2.67e-01 -9.43e-03  1.78e+00]\n",
      " [ 2.29e-03 -6.40e-01 -5.94e-03 ... -1.19e-01 -1.34e-02  1.57e+00]\n",
      " [ 3.42e-03 -5.98e-01  2.86e-03 ... -8.81e-01 -8.59e-03  2.19e-01]\n",
      " ...\n",
      " [ 5.76e-04 -2.24e-01 -4.93e-03 ...  3.50e-01 -4.04e-03 -2.74e-01]\n",
      " [ 4.47e-03  7.74e-01 -9.89e-04 ...  8.84e-02  5.98e-03 -1.28e-01]\n",
      " [-2.03e-03  1.68e+00 -3.35e-03 ...  1.11e-01 -1.09e-02  4.03e-02]]\n",
      "[[0.98 0.09 0.97 ... 0.   0.96 0.32]\n",
      " [1.01 0.09 1.01 ... 0.   1.   0.51]\n",
      " [1.   0.09 1.   ... 0.   0.99 0.54]\n",
      " ...\n",
      " [1.04 0.09 1.03 ... 0.   1.04 0.39]\n",
      " [0.98 0.06 0.98 ... 0.   0.97 0.38]\n",
      " [0.99 0.09 0.99 ... 0.   0.99 0.27]]\n"
     ]
    },
    {
     "data": {
      "image/png": "[encoded data removed]",
      "text/plain": [
       "<Figure size 576x3600 with 10 Axes>"
      ]
     },
     "metadata": {
      "needs_background": "light"
     },
     "output_type": "display_data"
    }
   ],
   "source": [
    "print(test_mean)\n",
    "print(test_sigma)\n",
    "\n",
    "\n",
    "plt.figure(figsize=(8,50))\n",
    "for iteration in range(n_digits):\n",
    "    plt.subplot(n_digits, 10, iteration + 1)\n",
    "    plot_image(outputs_val[iteration])\n",
    "plt.show()"
   ]
  },
  {
   "cell_type": "code",
   "execution_count": 32,
   "metadata": {},
   "outputs": [
    {
     "name": "stdout",
     "output_type": "stream",
     "text": [
      "[-0.86 -0.86  0.06 -2.24  0.26 -1.13 -0.56 -1.03 -1.35 -1.87  1.56 -1.75\n",
      "  1.39  0.03 -0.55  0.75 -1.24  0.71  0.62  0.7  -0.13 -0.09 -0.57  1.8\n",
      "  1.66  0.6  -1.35 -1.04 -0.13 -0.7  -0.75 -1.04  0.64 -0.14 -0.49 -0.51\n",
      "  0.83 -0.09 -0.25 -0.87 -0.18 -0.74 -0.36  0.8   0.5   0.18  0.39 -1.15\n",
      " -1.11 -0.27]\n",
      "[-0.98 -0.47 -0.62 -0.92 -0.98 -1.22  1.73  1.12  0.36 -0.56  0.99  0.83\n",
      " -0.41 -0.02  0.56  0.02  1.17  0.22  2.15 -1.45 -0.76 -0.02  1.63 -2.56\n",
      " -1.83 -0.81 -1.88 -0.43  1.02  1.19  0.6  -1.99 -0.81 -1.43 -0.88 -1.18\n",
      "  1.31 -0.66  0.31  2.15  0.96 -0.88  1.45 -0.36 -0.86  0.74  1.66  0.44\n",
      "  0.66  0.4 ]\n"
     ]
    }
   ],
   "source": [
    "print(codings_rnd[0])\n",
    "print(codings_rnd[5])"
   ]
  },
  {
   "cell_type": "code",
   "execution_count": 54,
   "metadata": {},
   "outputs": [],
   "source": [
    "latent_list = np.zeros((20,50))\n",
    "for i in range(20):\n",
    "    latent_list[i] = (i/19)*codings_rnd[0] + ((19-i)/19)*codings_rnd[5]"
   ]
  },
  {
   "cell_type": "code",
   "execution_count": 55,
   "metadata": {},
   "outputs": [
    {
     "name": "stdout",
     "output_type": "stream",
     "text": [
      "INFO:tensorflow:Restoring parameters from ./VAE_mnist_FCN\n"
     ]
    }
   ],
   "source": [
    "with tf.Session() as sess:\n",
    "    new_saver = tf.train.import_meta_graph(TITLE + '.meta')\n",
    "    new_saver.restore(sess, tf.train.latest_checkpoint('./'))\n",
    "   \n",
    "    outputs_val = outputs.eval(feed_dict={latent: latent_list})    "
   ]
  },
  {
   "cell_type": "code",
   "execution_count": 56,
   "metadata": {},
   "outputs": [
    {
     "data": {
      "image/png": "[encoded data removed]",
      "text/plain": [
       "<Figure size 2016x2016 with 20 Axes>"
      ]
     },
     "metadata": {
      "needs_background": "light"
     },
     "output_type": "display_data"
    }
   ],
   "source": [
    "n_digits = 20\n",
    "plt.figure(figsize=(28,28))\n",
    "for iteration in range(n_digits):\n",
    "    plt.subplot(n_digits/20, 20, iteration + 1)\n",
    "    plot_image(outputs_val[iteration])\n",
    "plt.show()"
   ]
  },
  {
   "cell_type": "code",
   "execution_count": null,
   "metadata": {},
   "outputs": [],
   "source": []
  }
 ],
 "metadata": {
  "kernelspec": {
   "display_name": "Python 3",
   "language": "python",
   "name": "python3"
  },
  "language_info": {
   "codemirror_mode": {
    "name": "ipython",
    "version": 3
   },
   "file_extension": ".py",
   "mimetype": "text/x-python",
   "name": "python",
   "nbconvert_exporter": "python",
   "pygments_lexer": "ipython3",
   "version": "3.5.2"
  }
 },
 "nbformat": 4,
 "nbformat_minor": 2
}
